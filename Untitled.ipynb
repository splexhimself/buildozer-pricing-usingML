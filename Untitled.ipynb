{
 "cells": [
  {
   "cell_type": "code",
   "execution_count": 1,
   "id": "95d397a0",
   "metadata": {},
   "outputs": [],
   "source": [
    "import tensorflow as tf\n"
   ]
  },
  {
   "cell_type": "code",
   "execution_count": 4,
   "id": "72d602f6",
   "metadata": {},
   "outputs": [
    {
     "name": "stdout",
     "output_type": "stream",
     "text": [
      "Enter the opening balance200000\n",
      "Enter the deposit25000\n",
      "Enter the service charges500\n",
      "Enter the amount to be repaid10000\n",
      "Enter the interest10\n",
      "Enter the amount to transfer to payee25000\n",
      "Enter the amount to be withdrawn20000\n",
      "169000.0\n"
     ]
    }
   ],
   "source": [
    "opening_balance=int(input(\"Enter the opening balance\"))\n",
    "fund_deposit=int(input(\"Enter the deposit\"))\n",
    "service_charges=int(input(\"Enter the service charges\"))\n",
    "loan_repaid=int(input(\"Enter the amount to be repaid\"))\n",
    "interest=int(input(\"Enter the interest\"))\n",
    "fund_transfer=int(input(\"Enter the amount to transfer to payee\"))\n",
    "withdrawal_amount=int(input(\"Enter the amount to be withdrawn\"))\n",
    "\n",
    "closing_balance=opening_balance+fund_deposit-service_charges-loan_repaid-(loan_repaid*interest/100*6/12)-fund_transfer-withdrawal_amount\n",
    "\n",
    "print(closing_balance)"
   ]
  },
  {
   "cell_type": "code",
   "execution_count": null,
   "id": "3bd50de9",
   "metadata": {},
   "outputs": [],
   "source": [
    "opening_balance=int(input(\"Enter the opening balance\"))\n",
    "fund_deposit=int(input(\"Enter the deposit\"))\n",
    "service_charges=int(input(\"Enter the service charges\"))\n",
    "loan_repaid=int(input(\"Enter the amount to be repaid\"))\n",
    "interest=int(input(\"Enter the interest\"))\n",
    "fund_transfer=int(input(\"Enter the amount to transfer to payee\"))\n",
    "withdrawal_amount=int(input(\"Enter the amount to be withdrawn\"))\n",
    "\n",
    "closing_balance=opening_balance+fund_deposit-service_charges-loan_repaid-(loan_repaid*(1+10/0.5)**5)-fund_transfer-withdrawal_amount\n",
    "\n",
    "print(closing_balance)"
   ]
  },
  {
   "cell_type": "code",
   "execution_count": null,
   "id": "e7e1066c",
   "metadata": {},
   "outputs": [],
   "source": [
    "n=int(input(\"Enter the number of products\"))\n",
    "for i in range(n):\n",
    "    fixed_cost=int(input(\"Enter the Fixed cost\"))\n",
    "    variable_cost=int(input(\"Enter the variable cost\"))\n",
    "    sales=int(input(\"Enter the sales\"))\n",
    "    Profit_Loss=sales-fixed_cost+variable_cost\n",
    "    if(Profit_Loss<0):\n",
    "        print(\"Loss:\",abs(Profit_Loss))\n",
    "    else:\n",
    "        print(\"Profit:\",abs(Profit_Loss))"
   ]
  },
  {
   "cell_type": "code",
   "execution_count": null,
   "id": "102c09cc",
   "metadata": {},
   "outputs": [],
   "source": [
    "n=int(input(\"Enter the number of products\"))\n",
    "for i in range(n):\n",
    "    fixed_cost=int(input(\"Enter the Fixed cost\"))\n",
    "    variable_cost=int(input(\"Enter the variable cost\"))\n",
    "    sales=int(input(\"Enter the sales\"))\n",
    "    Profit_Loss=sales-fixed_cost-variable_cost\n",
    "    if(Profit_Loss>0):\n",
    "        print(\"Profit:\",abs(Profit_Loss))\n",
    "    else:\n",
    "        print(\"Loss:\",abs(Profit_Loss))"
   ]
  },
  {
   "cell_type": "code",
   "execution_count": null,
   "id": "766d0408",
   "metadata": {},
   "outputs": [],
   "source": [
    "int rs"
   ]
  }
 ],
 "metadata": {
  "kernelspec": {
   "display_name": "Python 3 (ipykernel)",
   "language": "python",
   "name": "python3"
  },
  "language_info": {
   "codemirror_mode": {
    "name": "ipython",
    "version": 3
   },
   "file_extension": ".py",
   "mimetype": "text/x-python",
   "name": "python",
   "nbconvert_exporter": "python",
   "pygments_lexer": "ipython3",
   "version": "3.10.8"
  }
 },
 "nbformat": 4,
 "nbformat_minor": 5
}
